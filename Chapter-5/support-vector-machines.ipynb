{
 "cells": [
  {
   "cell_type": "code",
   "execution_count": 1,
   "metadata": {
    "collapsed": true
   },
   "outputs": [],
   "source": [
    "# To support both python 2 and python 3\n",
    "from __future__ import division, print_function, unicode_literals\n",
    "\n",
    "# Common imports\n",
    "import numpy as np\n",
    "import os\n",
    "\n",
    "# to make this notebook's output stable across runs\n",
    "np.random.seed(42)\n",
    "\n",
    "# To plot pretty figures\n",
    "%matplotlib inline\n",
    "import matplotlib\n",
    "import matplotlib.pyplot as plt\n",
    "plt.rcParams['axes.labelsize'] = 14\n",
    "plt.rcParams['xtick.labelsize'] = 12\n",
    "plt.rcParams['ytick.labelsize'] = 12\n",
    "\n",
    "# Where to save the figures\n",
    "PROJECT_ROOT_DIR = \".\"\n",
    "IMAGES_PATH = os.path.join(PROJECT_ROOT_DIR, \"images\")\n",
    "\n",
    "def save_fig(fig_id, tight_layout=True, fig_extension=\"png\", resolution=300):\n",
    "    path = os.path.join(IMAGES_PATH, fig_id + \".\" + fig_extension)\n",
    "    print(\"Saving figure\", fig_id)\n",
    "    if tight_layout:\n",
    "        plt.tight_layout()\n",
    "    plt.savefig(path, format=fig_extension, dpi=resolution)"
   ]
  },
  {
   "cell_type": "code",
   "execution_count": 35,
   "metadata": {
    "collapsed": false
   },
   "outputs": [
    {
     "name": "stdout",
     "output_type": "stream",
     "text": [
      "[ 1.29411744  0.82352928]\n",
      "[-3.78823471]\n",
      "[[ 1.9  0.4]\n",
      " [ 3.   1.1]]\n"
     ]
    },
    {
     "data": {
      "text/plain": [
       "array([ 4.7,  4.5,  4.9,  4. ,  4.6,  4.5,  4.7,  3.3,  4.6,  3.9,  3.5,\n",
       "        4.2,  4. ,  4.7,  3.6,  4.4,  4.5,  4.1,  4.5,  3.9,  4.8,  4. ,\n",
       "        4.9,  4.7,  4.3,  4.4,  4.8,  5. ,  4.5,  3.5,  3.8,  3.7,  3.9,\n",
       "        5.1,  4.5,  4.5,  4.7,  4.4,  4.1,  4. ,  4.4,  4.6,  4. ,  3.3,\n",
       "        4.2,  4.2,  4.2,  4.3,  3. ,  4.1])"
      ]
     },
     "execution_count": 35,
     "metadata": {},
     "output_type": "execute_result"
    }
   ],
   "source": [
    "# Beginning the SVM chapter here\n",
    "# First up, is a demonstration of how some linear classifiers separate the data with very less margin\n",
    "# In contrast, SVMs classify data keeping a clean margin between the separated classes\n",
    "# SVC refers to Support Vector Classifier\n",
    "\n",
    "from sklearn.svm import SVC\n",
    "from sklearn import datasets\n",
    "\n",
    "iris = datasets.load_iris() # loading IRIS dataset used previously\n",
    "\n",
    "X = iris[\"data\"][:, (2, 3)] # Create training set out of only petal length and petal width for 150 training samples\n",
    "y = iris[\"target\"] # Create test set out of target values\n",
    "\n",
    "setosa_or_versicolor = (y == 0) | (y == 1) # Create an array of 'True' & 'False' values for 100 setosa or versicolour flowers\n",
    "X = X[setosa_or_versicolor] # Filter the training set X to keep only setosa and versicolour features in X\n",
    "y = y[setosa_or_versicolor] # The same to target values in y\n",
    "\n",
    "# Creation of training and target values are complete here.\n",
    "# Now apply SVM classifier of this data.\n",
    "svm_clf = SVC(kernel=\"linear\", C=float(\"inf\"))\n",
    "svm_clf.fit(X, y)\n",
    "\n",
    "# Trying out a few commands to check their functions\n",
    "print(svm_clf.coef_[0])\n",
    "print(svm_clf.intercept_)\n",
    "print(svm_clf.support_vectors_)\n",
    "\n",
    "x0 = np.linspace(0, 5.5, 200)\n",
    "w = svm_clf.coef_[0]\n",
    "b = svm_clf.intercept_[0]\n",
    "decision_boundary = -w[0]/w[1] * x0 - b/w[1]\n",
    "X[:, 0][y==1]"
   ]
  },
  {
   "cell_type": "code",
   "execution_count": 36,
   "metadata": {
    "collapsed": false
   },
   "outputs": [
    {
     "name": "stdout",
     "output_type": "stream",
     "text": [
      "Saving figure large_margin_classification_plot\n"
     ]
    },
    {
     "data": {
      "image/png": "[encoded data removed]",
      "text/plain": [
       "<matplotlib.figure.Figure at 0x1d44510e0b8>"
      ]
     },
     "metadata": {},
     "output_type": "display_data"
    }
   ],
   "source": [
    "# Examples of bad linear SVM classifiers\n",
    "x0 = np.linspace(0, 5.5, 200)  # Generate 200 numbers between 0 and 5.5\n",
    "\n",
    "# Three straight lines\n",
    "pred_1 = 5*x0 - 20\n",
    "pred_2 = x0 - 1.8\n",
    "pred_3 = 0.1 * x0 + 0.5\n",
    "\n",
    "# Function to plot the SVM decision boundaries\n",
    "# xmin and xmax are easily found here because the training values are generated by the developer\n",
    "# Normally we have to find the minimum and maximum values of the training data\n",
    "def plot_svc_decision_boundary(svm_clf, xmin, xmax):\n",
    "    # svm_clf.coef_ attribute is an array which contains two coefficients for the features in training set. \n",
    "    \n",
    "    # Using [0] for w makes it store the array of coefficients\n",
    "    w = svm_clf.coef_[0]\n",
    "    # Using [0] for b makes it store only the value and not the entire array\n",
    "    b = svm_clf.intercept_[0] \n",
    "    \n",
    "    # At the decision boundary, w0*x0 + w1*x1 + b = 0\n",
    "    # => x1 = -w0/w1 * x0 - b/w1 - computes values of x1 for values of x0\n",
    "    x0 = np.linspace(xmin, xmax, 200)\n",
    "    decision_boundary = -w[0]/w[1] * x0 - b/w[1] # This is an example of a vectorized implementation\n",
    "    \n",
    "    margin = 1/w[1]\n",
    "    gutter_up = decision_boundary + margin\n",
    "    gutter_down = decision_boundary - margin\n",
    "    \n",
    "    # support_vectors_ attribute stores the support vectors for this classifier\n",
    "    # Support vectors are the borderline cases which are on the gutter-up or gutter-down lines\n",
    "    svs = svm_clf.support_vectors_ \n",
    "    \n",
    "    # These plots draw the skeleton of the SVM curve\n",
    "    plt.scatter(svs[:, 0], svs[:, 1], s=180, facecolors='#FFAAAA')\n",
    "    plt.plot(x0, decision_boundary, \"k-\", linewidth=2)\n",
    "    plt.plot(x0, gutter_up, \"k--\", linewidth=2)\n",
    "    plt.plot(x0, gutter_down, \"k--\", linewidth=2)\n",
    "    \n",
    "plt.figure(figsize=(12,2.7)) # dimensions of the complete figure\n",
    "\n",
    "# Hardcoded subplot using the predefined straight line equations at the start of the cell\n",
    "plt.subplot(121)\n",
    "plt.plot(x0, pred_1, \"g--\", linewidth=2)\n",
    "plt.plot(x0, pred_2, \"m-\", linewidth=2)\n",
    "plt.plot(x0, pred_3, \"r-\", linewidth=2)\n",
    "#plot all values in the first column of array X (X[:, 0]), which satisfies y==1\n",
    "#plot all values in the second column of array X (X[:, 1]), which satisfies y==1\n",
    "plt.plot(X[:, 0][y==1], X[:, 1][y==1], \"bs\", label=\"Iris-Versicolor\")\n",
    "plt.plot(X[:, 0][y==0], X[:, 1][y==0], \"yo\", label=\"Iris-Setosa\")\n",
    "plt.xlabel(\"Petal length\", fontsize=14)\n",
    "plt.ylabel(\"Petal width\", fontsize=14)\n",
    "plt.legend(loc=\"upper left\", fontsize=14)\n",
    "plt.axis([0, 5.5, 0, 2])\n",
    "\n",
    "# Calls the SVC decision boundary function to plot curve for SVM\n",
    "plt.subplot(122)\n",
    "plot_svc_decision_boundary(svm_clf, 0, 5.5)\n",
    "plt.plot(X[:, 0][y==1], X[:, 1][y==1], \"bs\")\n",
    "plt.plot(X[:, 0][y==0], X[:, 1][y==0], \"yo\")\n",
    "plt.xlabel(\"Petal length\", fontsize=14)\n",
    "plt.axis([0, 5.5, 0, 2])\n",
    "\n",
    "save_fig(\"large_margin_classification_plot\")\n",
    "plt.show()"
   ]
  },
  {
   "cell_type": "code",
   "execution_count": null,
   "metadata": {
    "collapsed": true
   },
   "outputs": [],
   "source": []
  }
 ],
 "metadata": {
  "kernelspec": {
   "display_name": "Python 3",
   "language": "python",
   "name": "python3"
  },
  "language_info": {
   "codemirror_mode": {
    "name": "ipython",
    "version": 3
   },
   "file_extension": ".py",
   "mimetype": "text/x-python",
   "name": "python",
   "nbconvert_exporter": "python",
   "pygments_lexer": "ipython3",
   "version": "3.5.4"
  }
 },
 "nbformat": 4,
 "nbformat_minor": 0
}
